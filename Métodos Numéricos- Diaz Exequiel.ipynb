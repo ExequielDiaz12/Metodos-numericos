{
 "cells": [
  {
   "cell_type": "markdown",
   "id": "d7cba862",
   "metadata": {},
   "source": [
    "# Metodos numericos - Unidad 2"
   ]
  },
  {
   "cell_type": "code",
   "execution_count": 15,
   "id": "3d8703a0",
   "metadata": {},
   "outputs": [],
   "source": [
    "%matplotlib inline"
   ]
  },
  {
   "cell_type": "markdown",
   "id": "0bb69eb7",
   "metadata": {},
   "source": [
    "## Método Gráfico"
   ]
  },
  {
   "cell_type": "code",
   "execution_count": 16,
   "id": "feefedf8",
   "metadata": {},
   "outputs": [],
   "source": [
    "import matplotlib.pyplot as plt\n",
    "import numpy as np\n",
    "\n",
    "def graficar(f, x_i, x_f, num=1000):\n",
    "    x = np.linspace(x_i, x_f, num)\n",
    "    fig, ax = plt.subplots(figsize=(10, 6))\n",
    "    ax.plot(x, f(x), label='f(x)')\n",
    "    ax.axhline(0, color='black', linewidth=0.5)\n",
    "    ax.axvline(0, color='black', linewidth=0.5)\n",
    "    ax.legend()\n",
    "    plt.xlabel('x')\n",
    "    plt.ylabel('f(x)')\n",
    "    plt.title('Gráfico de f(x)')\n",
    "    plt.grid(True)\n",
    "    plt.show()\n",
    "\n",
    "\n"
   ]
  },
  {
   "cell_type": "markdown",
   "id": "fdc0dcc0",
   "metadata": {},
   "source": [
    "## Método de bisección"
   ]
  },
  {
   "cell_type": "code",
   "execution_count": 17,
   "id": "266f3fa3",
   "metadata": {},
   "outputs": [],
   "source": [
    "def biseccion(f, a, b, tol=10**-4, n=50):\n",
    "    \n",
    "    if f(a)*f(b) >= 0:  # El intervalo escogido no sirve,PREGUNTAR: ¿Será necesario hacer esto? no está en el algoritmo\n",
    "        print('El intervalo no funciona, f(a)={:.2f} y f(b)={:.2f}'.format(f(a), f(b)))\n",
    "        return None\n",
    "    \n",
    "    i = 1\n",
    "    while i <= n and abs(f(p)) > tol:\n",
    "        c = (a + b) / 2  # Punto medio\n",
    "        e_abs = abs(b - a)  # Error absoluto\n",
    "        print('ite {:<2}: a_{:<2}={:.7f}, b_{:<2}={:.7f}, c_{:<2}={:.7f}, e_abs={:.7f}'.format(i, i - 1, a, i - 1, b, i, c, e_abs))\n",
    "        \n",
    "        if f(c) == 0:  # Solución exacta encontrada\n",
    "            print('Solución encontrada x={:.7f}'.format(c))\n",
    "            return c\n",
    "        \n",
    "        if f(a) * f(c) < 0:  # Escog intervalo izquierdo\n",
    "            b = c\n",
    "        else:  # Escogr intervalo derecho\n",
    "            a = c\n",
    "        \n",
    "        if e_abs < tol:  # Criterio de parada\n",
    "            print('Solución encontrada x={:.7f}, iteraciones: {}'.format(c, i))\n",
    "            return c\n",
    "        \n",
    "        i += 1\n",
    "    \n",
    "    print('Solución no encontrada, iteraciones agotadas: {}'.format(i - 1))\n",
    "    return None\n"
   ]
  },
  {
   "cell_type": "markdown",
   "id": "8de654c6",
   "metadata": {},
   "source": [
    "## Método de Regula Falsi"
   ]
  },
  {
   "cell_type": "code",
   "execution_count": 18,
   "id": "681cb7de",
   "metadata": {},
   "outputs": [],
   "source": [
    "def regulafalsi(f, a, b, tol=10**-4, n=50):\n",
    "    \n",
    "    if f(a)*f(b) >= 0:  # el intevalo escogido no sirve\n",
    "        print('El intervalo no funciona, f(a)={:.2f} y f(b)={:.2f}'.format(f(a),f(b)))\n",
    "        return None\n",
    "    \n",
    "    e_abs = abs(b-a)#PREGUNTA: EL ERROR DEBERIA SER AB(B-A) O ABS(F(X))?\n",
    "    i = 1\n",
    "    c = b - (f(b)*(b - a))/(f(b) - f(a))\n",
    "    while i <= n and e_abs > tol:\n",
    "        c_1 = c\n",
    "        print('ite {:<2}: a_{:<2}={:.7f} , b_{:<2}={:.7f}, c_{:<2}={:.7f}'.format(i,i-1,a,i-1,b,i,c_1))\n",
    "        \n",
    "        if f(c_1)==0:  # ES L solución \n",
    "            print('Solución encontada x={:.7f}'. format(c_1))\n",
    "            return c_1\n",
    "        \n",
    "        if f(a)*f(c)<0:  # escoger intervalo izquierdo\n",
    "            b = c_1\n",
    "        else:  # escoger intervalo derecho\n",
    "            a = c_1\n",
    "            \n",
    "        c = b - (f(b)*(b - a))/(f(b) - f(a))\n",
    "        \n",
    "        e_abs = abs(c_1 - c)  # error absoluto // \n",
    "        \n",
    "        if e_abs < tol:  # criterio de parada\n",
    "            print('Solución encontrada x= {:.7f}, iteraciones: {}'. format(c,i))\n",
    "            return c\n",
    "        \n",
    "        i += 1\n",
    "    print ('Solución no encontrada, iteraciones agotadas: {}'.format(i-1))\n",
    "    return None"
   ]
  },
  {
   "cell_type": "markdown",
   "id": "950254c6",
   "metadata": {},
   "source": [
    "## Método de la Secante"
   ]
  },
  {
   "cell_type": "code",
   "execution_count": 19,
   "id": "3185ef78",
   "metadata": {},
   "outputs": [],
   "source": [
    "def secante(f, p_0, p_1, tol=10**-4, n=50):\n",
    "    e_abs = abs(p_1 - p_0)\n",
    "    \n",
    "    print('ite {:<2}: p_{:<2}={:.7f}'.format(0,0,p_0))\n",
    "    print('ite {:<2}: p_{:<2}={:.7f}, e_abs={:.7f}'.format(1,1,p_1,e_abs))\n",
    "    \n",
    "    i = 2\n",
    "    while i <= n:\n",
    "        if f(p_1) == f(p_0): #división por cero, la fn es constante entre los puntos iniciales\n",
    "            print('Solución no encontrada (error en los valores iniciales)')\n",
    "            return None\n",
    "        \n",
    "        p_2 = p_1 - (f(p_1)*(p_1 - p_0))/(f(p_1) - f(p_0))  # fórmula método secante\n",
    "        e_abs = abs(p_2 - p_1)\n",
    "        print('ite {:<2}: p_{:<2}={:.7f}, e_abs={:.7f}'.format(i,i,p_2,e_abs))\n",
    "        \n",
    "        if e_abs < tol:  # criterio de parada\n",
    "            print('Solución encontrada x= {:.7f}, iteraciones: {}'. format(p_2,i))\n",
    "            return p_2\n",
    "        p_0 = p_1\n",
    "        p_1 = p_2\n",
    "        i += 1\n",
    "    print('Solución no encontrada, iteraciones agotadas: {}'.format(i-1))\n",
    "    return None"
   ]
  },
  {
   "cell_type": "markdown",
   "id": "20d21bdc",
   "metadata": {},
   "source": [
    "# Método de Newton - Raphson"
   ]
  },
  {
   "cell_type": "code",
   "execution_count": 20,
   "id": "3e482efe",
   "metadata": {},
   "outputs": [],
   "source": [
    "def newton_raphson(f, df, p_0, tol=10**-4, n=50):\n",
    "    \n",
    "    print('ite {:<2}: p_{:<2}={:.7f}'.format(0,0,p_0))\n",
    "    e_abs = 1\n",
    "    i = 1\n",
    "    while i <= n:\n",
    "        \n",
    "        if df(p_0) == 0:  \n",
    "            print('Solución no encontrara - df(x)=0')\n",
    "            return None\n",
    "        \n",
    "        p_1 = p_0 - (f(p_0))/(df(p_0))  \n",
    "        e_abs = abs(p_1-p_0)\n",
    "        print('ite {:<2}: p_{:<2}={:.7f}, e_abs={:.7f}'.format(i,i,p_1,e_abs))\n",
    "        \n",
    "        if e_abs < tol: \n",
    "            print('Solución encotrada x={:.7f}, iteraciones: {}'.format(p_1,i))\n",
    "            return p_1\n",
    "        \n",
    "        p_0 = p_1\n",
    "        i += 1\n",
    "    print('Solución no encontrada, iteraciones agotadas: {}'.format(i-1))\n",
    "    return None"
   ]
  },
  {
   "cell_type": "markdown",
   "id": "41b20890",
   "metadata": {},
   "source": [
    "# Método punto fijo"
   ]
  },
  {
   "cell_type": "code",
   "execution_count": 21,
   "id": "d6f72c20",
   "metadata": {},
   "outputs": [],
   "source": [
    "def metodo_puntofijo(g, p_0, tol=10**-4, n=50):\n",
    "   \n",
    "    print('ite {:<2}: p_{:<2}={:.7f}'.format(0,0,p_0))\n",
    "    i = 1\n",
    "    while i <= n:\n",
    "        try:\n",
    "            p_1 = g(p_0)  \n",
    "        except OverflowError:\n",
    "            print('Explota todoooo !!!')\n",
    "            return None\n",
    "        e_abs = abs(p_1 - p_0)  \n",
    "        print('ite {:<2}: p_{:<2}={:.7f}, e_abs={:.7f}'.format(i,i,p_1,e_abs))\n",
    "        if e_abs < tol:  \n",
    "            print('Solución encontrada x={:.7f}, iteraciones: {}'.format(p_1,i))\n",
    "            return p_1\n",
    "        i += 1\n",
    "        p_0 = p_1\n",
    "    print('Solución no encontrada, iteraciones agotadas: {}'.format(i-1))\n",
    "    return None"
   ]
  },
  {
   "cell_type": "markdown",
   "id": "e76970d9",
   "metadata": {},
   "source": [
    "# Trabajo Práctico N° 2"
   ]
  },
  {
   "cell_type": "markdown",
   "id": "6edd5c61",
   "metadata": {},
   "source": [
    "### Punto 1 - a"
   ]
  },
  {
   "cell_type": "code",
   "execution_count": 22,
   "id": "cbe91d37",
   "metadata": {},
   "outputs": [
    {
     "data": {
      "image/png": "[encoded data removed]",
      "text/plain": [
       "<Figure size 1000x600 with 1 Axes>"
      ]
     },
     "metadata": {},
     "output_type": "display_data"
    }
   ],
   "source": [
    "def f(x):\n",
    "    return x - 1 - np.tan(x)\n",
    "\n",
    "graficar(f, 0.5, np.pi / 2)"
   ]
  },
  {
   "cell_type": "markdown",
   "id": "488eaa1d",
   "metadata": {},
   "source": [
    "### punto 1- b"
   ]
  },
  {
   "cell_type": "code",
   "execution_count": 23,
   "id": "1f6b796a",
   "metadata": {},
   "outputs": [
    {
     "name": "stdout",
     "output_type": "stream",
     "text": [
      "ite 1 : a_0 =0.5000000, b_0 =2.3561945, c_1 =1.4280972, e_abs=1.8561945\n",
      "ite 2 : a_1 =1.4280972, b_1 =2.3561945, c_2 =1.8921459, e_abs=0.9280972\n",
      "ite 3 : a_2 =1.4280972, b_2 =1.8921459, c_3 =1.6601216, e_abs=0.4640486\n",
      "Solución no encontrada, iteraciones agotadas: 3\n"
     ]
    }
   ],
   "source": [
    "biseccion(f, 0.5, 1.5* np.pi/2, 10**-3, 3)"
   ]
  },
  {
   "cell_type": "markdown",
   "id": "0ffb6bec",
   "metadata": {},
   "source": [
    "El método de bisección es fácil de implementar, garantiza la convergencia siempre que se cumplan ciertas condiciones como que la funcion cambie de signo en el intervalo elegido.\n",
    "Otra característica es que este metodo tiene una corvengencia lenta en comparación con otros métodos por lo que podría requerir de más iteraciones para encontrar la raíz."
   ]
  },
  {
   "cell_type": "markdown",
   "id": "1b8158a5",
   "metadata": {},
   "source": [
    "### punto 1 - c"
   ]
  },
  {
   "cell_type": "code",
   "execution_count": 10,
   "id": "0eee7736",
   "metadata": {},
   "outputs": [
    {
     "name": "stdout",
     "output_type": "stream",
     "text": [
      "ite 0 : p_0 =0.5000000\n",
      "ite 1 : p_1 =2.3561945, e_abs=1.8561945\n",
      "ite 2 : p_2 =1.0707987, e_abs=1.2853958\n",
      "ite 3 : p_3 =1.6203537, e_abs=0.5495550\n",
      "Solución no encontrada, iteraciones agotadas: 3\n"
     ]
    }
   ],
   "source": [
    "secante(f, 0.5,1.5 * np.pi/2, 10**-3, 3)"
   ]
  },
  {
   "cell_type": "markdown",
   "id": "eee7c252",
   "metadata": {},
   "source": [
    "El metodo de la secante es un método iterativo que requiere de dos puntos iniciales, por lo que es sensible a la eleccion de estos ya que los mismos determinan la convergencia o velocidad de convergencia. Puntos iniciañes cercanos a la raiz suelen conducir a una convergencia rápida.\n",
    "\n",
    "Este metodo no necesariamente garantiza una convergencia ya que la funcion puede diverger si la funcion tiene un comportamiento oscilante."
   ]
  },
  {
   "cell_type": "markdown",
   "id": "6b623a53",
   "metadata": {},
   "source": [
    "### punto 1 - e"
   ]
  },
  {
   "cell_type": "code",
   "execution_count": 11,
   "id": "97e643f8",
   "metadata": {},
   "outputs": [
    {
     "name": "stdout",
     "output_type": "stream",
     "text": [
      "ite 1 : a_0 =0.5000000 , b_0 =2.3561945, c_1 =1.0707987\n",
      "ite 2 : a_1 =1.0707987 , b_1 =2.3561945, c_2 =1.6203537\n",
      "ite 3 : a_2 =1.0707987 , b_2 =1.6203537, c_3 =1.1136984\n",
      "Solución no encontrada, iteraciones agotadas: 3\n"
     ]
    }
   ],
   "source": [
    "regulafalsi(f, 0.5,1.5 * np.pi/2, 10**-3, 3)"
   ]
  },
  {
   "cell_type": "markdown",
   "id": "11309adc",
   "metadata": {},
   "source": [
    "En Regula falsi, el intervalo se selecciona de manera que la función cambien de signo en los extremos del intervalo. En cambio, en el metodo de la secante los puntos pueden elegirse arbitrariamente sin algún tipo de restricción.\n",
    "\n",
    "En el método de regula falsi se usa una interpolación lineal para calcular las aproximaciones, lo que garantiza que la nueva aproximación esté más cerca de la raíz. En el método de la secante, la siguiente aproximación se calcula utilizando una secante entre dos puntos cercanos en la curva de la función.\n",
    "\n",
    "Si bien ambos pueden converger a una solución, el método de la secante suele converger más rápido; especialmente en casos donde la función es suave y tiene derivadas continuas.\n",
    "\n",
    "El método de la secante requiere dos puntos iniciales cercanos. En cambio, regula falsi requiere un intervalo inicial donde la función cambie de signo en los extremos del intervalo.\n",
    "\n",
    "El método de la regla falsa garantiza la convergencia si la función es continua y cambia de signo en el intervalo inicial. En contraste, el método de la secante no garantiza la convergencia y puede divergir en ciertos casos, especialmente si los puntos iniciales están mal elegidos o si la función tiene comportamientos oscilantes cerca de la raíz."
   ]
  },
  {
   "cell_type": "markdown",
   "id": "b7318091",
   "metadata": {},
   "source": [
    "### punto 2"
   ]
  },
  {
   "cell_type": "code",
   "execution_count": 12,
   "id": "fc4ef201",
   "metadata": {},
   "outputs": [
    {
     "name": "stdout",
     "output_type": "stream",
     "text": [
      "ite 0 : p_0 =0.4472136\n",
      "ite 1 : p_1 =-0.4472136, e_abs=0.8944272\n",
      "ite 2 : p_2 =0.4472136, e_abs=0.8944272\n",
      "ite 3 : p_3 =-0.4472136, e_abs=0.8944272\n",
      "ite 4 : p_4 =0.4472136, e_abs=0.8944272\n",
      "ite 5 : p_5 =-0.4472136, e_abs=0.8944272\n",
      "ite 6 : p_6 =0.4472136, e_abs=0.8944272\n",
      "ite 7 : p_7 =-0.4472136, e_abs=0.8944272\n",
      "ite 8 : p_8 =0.4472136, e_abs=0.8944272\n",
      "ite 9 : p_9 =-0.4472136, e_abs=0.8944272\n",
      "ite 10: p_10=0.4472136, e_abs=0.8944272\n",
      "ite 11: p_11=-0.4472136, e_abs=0.8944272\n",
      "ite 12: p_12=0.4472136, e_abs=0.8944272\n",
      "ite 13: p_13=-0.4472136, e_abs=0.8944272\n",
      "ite 14: p_14=0.4472136, e_abs=0.8944272\n",
      "ite 15: p_15=-0.4472136, e_abs=0.8944272\n",
      "ite 16: p_16=0.4472136, e_abs=0.8944272\n",
      "ite 17: p_17=-0.4472136, e_abs=0.8944272\n",
      "ite 18: p_18=0.4472136, e_abs=0.8944272\n",
      "ite 19: p_19=-0.4472136, e_abs=0.8944272\n",
      "ite 20: p_20=0.4472136, e_abs=0.8944272\n",
      "ite 21: p_21=-0.4472136, e_abs=0.8944272\n",
      "ite 22: p_22=0.4472136, e_abs=0.8944272\n",
      "ite 23: p_23=-0.4472136, e_abs=0.8944272\n",
      "ite 24: p_24=0.4472136, e_abs=0.8944272\n",
      "ite 25: p_25=-0.4472136, e_abs=0.8944272\n",
      "ite 26: p_26=0.4472136, e_abs=0.8944272\n",
      "ite 27: p_27=-0.4472136, e_abs=0.8944272\n",
      "ite 28: p_28=0.4472136, e_abs=0.8944272\n",
      "ite 29: p_29=-0.4472136, e_abs=0.8944272\n",
      "ite 30: p_30=0.4472136, e_abs=0.8944272\n",
      "ite 31: p_31=-0.4472136, e_abs=0.8944272\n",
      "ite 32: p_32=0.4472136, e_abs=0.8944272\n",
      "ite 33: p_33=-0.4472136, e_abs=0.8944272\n",
      "ite 34: p_34=0.4472136, e_abs=0.8944272\n",
      "ite 35: p_35=-0.4472136, e_abs=0.8944272\n",
      "ite 36: p_36=0.4472136, e_abs=0.8944272\n",
      "ite 37: p_37=-0.4472136, e_abs=0.8944272\n",
      "ite 38: p_38=0.4472136, e_abs=0.8944272\n",
      "ite 39: p_39=-0.4472136, e_abs=0.8944272\n",
      "ite 40: p_40=0.4472136, e_abs=0.8944272\n",
      "ite 41: p_41=-0.4472136, e_abs=0.8944272\n",
      "ite 42: p_42=0.4472136, e_abs=0.8944272\n",
      "ite 43: p_43=-0.4472136, e_abs=0.8944272\n",
      "ite 44: p_44=0.4472136, e_abs=0.8944272\n",
      "ite 45: p_45=-0.4472136, e_abs=0.8944272\n",
      "ite 46: p_46=0.4472136, e_abs=0.8944272\n",
      "ite 47: p_47=-0.4472136, e_abs=0.8944272\n",
      "ite 48: p_48=0.4472136, e_abs=0.8944272\n",
      "ite 49: p_49=-0.4472136, e_abs=0.8944272\n",
      "ite 50: p_50=0.4472136, e_abs=0.8944272\n",
      "Solución no encontrada, iteraciones agotadas: 50\n"
     ]
    }
   ],
   "source": [
    "# Definir la función f(x)\n",
    "def f(x):\n",
    "    return x**3 - x\n",
    "\n",
    "# Definir la derivada de la función f(x)\n",
    "def df(x):\n",
    "    return 3*x**2 - 1\n",
    "\n",
    "# Valor inicial\n",
    "x_0 = np.sqrt(1/5)\n",
    "\n",
    "# Ejecutar el algoritmo\n",
    "newton_raphson(f, df, x_0)"
   ]
  },
  {
   "cell_type": "markdown",
   "id": "cccb221d",
   "metadata": {},
   "source": [
    "El método no puede ceonverger a una solución debido a que Newton - Raphson es sencible a la elección del punto inicial"
   ]
  },
  {
   "cell_type": "code",
   "execution_count": 13,
   "id": "56644676",
   "metadata": {},
   "outputs": [
    {
     "name": "stdout",
     "output_type": "stream",
     "text": [
      "ite 0 : p_0 =-2.0000000\n",
      "ite 1 : p_1 =-1.4545455, e_abs=0.5454545\n",
      "ite 2 : p_2 =-1.1510468, e_abs=0.3034987\n",
      "ite 3 : p_3 =-1.0253259, e_abs=0.1257209\n",
      "ite 4 : p_4 =-1.0009085, e_abs=0.0244175\n",
      "ite 5 : p_5 =-1.0000012, e_abs=0.0009072\n",
      "ite 6 : p_6 =-1.0000000, e_abs=0.0000012\n",
      "Solución encotrada x=-1.0000000, iteraciones: 6\n"
     ]
    },
    {
     "data": {
      "text/plain": [
       "-1.000000000002289"
      ]
     },
     "execution_count": 13,
     "metadata": {},
     "output_type": "execute_result"
    }
   ],
   "source": [
    "# Definir la función f(x)\n",
    "def f(x):\n",
    "    return x**3 - x\n",
    "\n",
    "# Definir la derivada de la función f(x)\n",
    "def df(x):\n",
    "    return 3*x**2 - 1\n",
    "\n",
    "# Valor inicial\n",
    "x_0 = -2\n",
    "\n",
    "# Ejecutar el algoritmo\n",
    "newton_raphson(f, df, x_0)"
   ]
  },
  {
   "cell_type": "code",
   "execution_count": 14,
   "id": "8743d767",
   "metadata": {},
   "outputs": [
    {
     "name": "stdout",
     "output_type": "stream",
     "text": [
      "Raíz aproximada = 1.860806\n",
      "La raíz es aproximadamente 1.860806\n"
     ]
    }
   ],
   "source": [
    "def biseccion(f, a, b, Eps=1e-6, max_iter=100):\n",
    "    iter = 1\n",
    "    # Verificación de cambio de signo\n",
    "    if f(a) * f(b) >= 0:\n",
    "        print(\"Error: La función debe cambiar de signo en el intervalo [a, b].\")\n",
    "        return None\n",
    "    # Calcular el primer punto medio\n",
    "    p = (a + b) / 2\n",
    "    # Iteraciones\n",
    "    while iter <= max_iter and abs(f(p)) > Eps:\n",
    "        iter += 1\n",
    "        if f(a) * f(p) > 0:\n",
    "            a = p\n",
    "        else:\n",
    "            b = p\n",
    "        p = (a + b) / 2\n",
    "    # Verificar convergencia\n",
    "    if iter > max_iter:\n",
    "        print(f\"No converge en {max_iter} iteraciones.\")\n",
    "    else:\n",
    "        print(f\"Raíz aproximada = {p:.6f}\")\n",
    "    return p\n",
    "# Definición de la función\n",
    "def f(x):\n",
    "    return x**3 - 4*x + 1\n",
    "# Intervalo inicial\n",
    "a = 1\n",
    "b = 2\n",
    "# Llamada al método de bisección\n",
    "raiz = biseccion(f, a, b)\n",
    "if raiz is not None:\n",
    "    print(f\"La raíz es aproximadamente {raiz:.6f}\")"
   ]
  },
  {
   "cell_type": "code",
   "execution_count": null,
   "id": "d0d4fefd",
   "metadata": {},
   "outputs": [],
   "source": []
  }
 ],
 "metadata": {
  "kernelspec": {
   "display_name": "Python 3 (ipykernel)",
   "language": "python",
   "name": "python3"
  },
  "language_info": {
   "codemirror_mode": {
    "name": "ipython",
    "version": 3
   },
   "file_extension": ".py",
   "mimetype": "text/x-python",
   "name": "python",
   "nbconvert_exporter": "python",
   "pygments_lexer": "ipython3",
   "version": "3.11.5"
  }
 },
 "nbformat": 4,
 "nbformat_minor": 5
}
